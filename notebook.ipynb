{
 "cells": [
  {
   "cell_type": "code",
   "execution_count": 1,
   "metadata": {},
   "outputs": [
    {
     "name": "stderr",
     "output_type": "stream",
     "text": [
      "c:\\Users\\Conicet\\AppData\\Local\\Programs\\Python\\Python311\\Lib\\site-packages\\tqdm\\auto.py:21: TqdmWarning: IProgress not found. Please update jupyter and ipywidgets. See https://ipywidgets.readthedocs.io/en/stable/user_install.html\n",
      "  from .autonotebook import tqdm as notebook_tqdm\n"
     ]
    },
    {
     "data": {
      "text/plain": [
       "True"
      ]
     },
     "execution_count": 1,
     "metadata": {},
     "output_type": "execute_result"
    }
   ],
   "source": [
    "import pandas as pd\n",
    "import json\n",
    "import os\n",
    "from dotenv import load_dotenv\n",
    "from langchain_community.graphs import Neo4jGraph\n",
    "from langchain.chains import GraphCypherQAChain\n",
    "from langchain_google_genai import ChatGoogleGenerativeAI\n",
    "from langchain_community.llms import HuggingFaceHub\n",
    "load_dotenv()"
   ]
  },
  {
   "cell_type": "code",
   "execution_count": 2,
   "metadata": {},
   "outputs": [],
   "source": [
    "# Gemini (https://aistudio.google.com/app/apikey)\n",
    "gemini_api = os.getenv(\"GEMINI_API\")\n",
    "\n",
    "# Hugging Face (if we want to use open source LLM)\n",
    "hf_api = os.getenv(\"HF_API\")\n",
    "\n",
    "# Neo4j \n",
    "#neo4j_url = os.getenv(\"NEO4J_URL\")\n",
    "#print(neo4j_url)\n",
    "#neo4j_user = os.getenv(\"NEO4J_USER\")\n",
    "#print(neo4j_user)\n",
    "#neo4j_password = os.getenv(\"NEO4J_PASSWORD\")\n",
    "#print(neo4j_password)\n",
    "# https://api.python.langchain.com/en/latest/graphs/langchain_community.graphs.neo4j_graph.Neo4jGraph.html\n",
    "graph = Neo4jGraph(\"bolt://localhost:7687\",\"neo4j\",\"Alakran.23\")\n"
   ]
  },
  {
   "cell_type": "markdown",
   "metadata": {},
   "source": [
    "# 2. Insert data from CSV to Neo4J"
   ]
  },
  {
   "cell_type": "code",
   "execution_count": 3,
   "metadata": {},
   "outputs": [
    {
     "name": "stdout",
     "output_type": "stream",
     "text": [
      "Node properties are the following:\n",
      "Occurrence {recordedBy: STRING, catalogNumber: STRING, occurrenceID: STRING, occurrenceStatus: STRING},Event {eventDate: DATE, day: INTEGER, month: INTEGER, year: INTEGER, eventID: STRING},Taxon {scientificName: STRING, taxonRank: STRING, url: STRING, order: STRING, taxonKey: STRING, verbatimScientificName: STRING, class: STRING, genus: STRING, family: STRING, kingdom: STRING, phylum: STRING, infraspecificEpithet: STRING, verbatimScientificNameAuthorship: STRING},Location {decimalLongitude: FLOAT, countryCode: STRING, coordinateUncertaintyInMeters: STRING, locationID: STRING, stateProvince: STRING, decimalLatitude: FLOAT, locality: STRING},Identification {identifiedBy: STRING, dateIdentified: STRING, typeStatus: STRING},Institution {url: STRING, institutionCode: STRING},Dataset {datasetKey: STRING, dataset_url: STRING},Record {basisOfRecord: STRING, collectionCode: STRING, rightsHolder: STRING, license: STRING, datasetKey: STRING}\n",
      "Relationship properties are the following:\n",
      "\n",
      "The relationships are the following:\n",
      "(:Occurrence)-[:IN_DATASET]->(:Dataset),(:Occurrence)-[:IS_PART_OF]->(:Record),(:Occurrence)-[:AT_EVENT]->(:Event),(:Event)-[:LOCATED_AT]->(:Location),(:Identification)-[:TO_TAXON]->(:Taxon),(:Identification)-[:HAS_OCCURRENCE]->(:Occurrence),(:Record)-[:BY_INSTITUTION]->(:Institution)\n"
     ]
    }
   ],
   "source": [
    "graph.refresh_schema()\n",
    "print(graph.schema)"
   ]
  },
  {
   "cell_type": "markdown",
   "metadata": {},
   "source": [
    "# 3. Query through our Knowledge Graph"
   ]
  },
  {
   "cell_type": "code",
   "execution_count": 4,
   "metadata": {},
   "outputs": [],
   "source": [
    "llm = ChatGoogleGenerativeAI(model=\"gemini-pro\", google_api_key = gemini_api ,temperature = 0)\n",
    "chain = GraphCypherQAChain.from_llm(graph=graph, llm=llm, verbose=True)"
   ]
  },
  {
   "cell_type": "code",
   "execution_count": 53,
   "metadata": {},
   "outputs": [
    {
     "name": "stdout",
     "output_type": "stream",
     "text": [
      "====== START ======\n",
      "\n",
      "\n",
      "\u001b[1m> Entering new GraphCypherQAChain chain...\u001b[0m\n",
      "Generated Cypher:\n",
      "\u001b[32;1m\u001b[1;3mMATCH (o:Occurrence)-[:AT_EVENT]->(e:Event)-[:LOCATED_AT]->(l:Location)\n",
      "WHERE l.countryCode = 'AR'\n",
      "RETURN o.recordedBy AS institution\u001b[0m\n",
      "Full Context:\n",
      "\u001b[32;1m\u001b[1;3m[{'institution': 'Fernando López'}, {'institution': 'Danalí Herr'}, {'institution': 'Néstor Trossero'}, {'institution': 'Mariano Ordano'}, {'institution': 'Alain Le Hérissé'}, {'institution': 'Carlos Schmidtutz'}, {'institution': 'Carlos Schmidtutz'}, {'institution': 'Nicolas Olejnik'}, {'institution': 'Nicolas Olejnik'}, {'institution': 'Guille Ivan Spajic'}]\u001b[0m\n",
      "\n",
      "\u001b[1m> Finished chain.\u001b[0m\n",
      "Fernando López, Danalí Herr, Néstor Trossero, Mariano Ordano, Alain Le Hérissé, Carlos Schmidtutz, Nicolas Olejnik, Guille Ivan Spajic\n",
      "====== END ====== \n",
      "\n",
      "====== START ======\n",
      "\n",
      "\n",
      "\u001b[1m> Entering new GraphCypherQAChain chain...\u001b[0m\n",
      "Generated Cypher:\n",
      "\u001b[32;1m\u001b[1;3mMATCH (o:Occurrence)\n",
      "WHERE o.recordedBy = \"Ezequiel Vera\"\n",
      "RETURN o.occurrenceID, o.recordedBy, o.catalogNumber, o.occurrenceStatus, o.eventID\u001b[0m\n",
      "Full Context:\n",
      "\u001b[32;1m\u001b[1;3m[{'o.occurrenceID': 'https://www.inaturalist.org/observations/22815430', 'o.recordedBy': 'Ezequiel Vera', 'o.catalogNumber': '22815430', 'o.occurrenceStatus': 'PRESENT', 'o.eventID': None}, {'o.occurrenceID': 'https://www.inaturalist.org/observations/98374136', 'o.recordedBy': 'Ezequiel Vera', 'o.catalogNumber': '98374136', 'o.occurrenceStatus': 'PRESENT', 'o.eventID': None}, {'o.occurrenceID': 'https://www.inaturalist.org/observations/7080827', 'o.recordedBy': 'Ezequiel Vera', 'o.catalogNumber': '7080827', 'o.occurrenceStatus': 'PRESENT', 'o.eventID': None}, {'o.occurrenceID': 'https://www.inaturalist.org/observations/20366745', 'o.recordedBy': 'Ezequiel Vera', 'o.catalogNumber': '20366745', 'o.occurrenceStatus': 'PRESENT', 'o.eventID': None}, {'o.occurrenceID': 'https://www.inaturalist.org/observations/22260016', 'o.recordedBy': 'Ezequiel Vera', 'o.catalogNumber': '22260016', 'o.occurrenceStatus': 'PRESENT', 'o.eventID': None}, {'o.occurrenceID': 'https://www.inaturalist.org/observations/29705255', 'o.recordedBy': 'Ezequiel Vera', 'o.catalogNumber': '29705255', 'o.occurrenceStatus': 'PRESENT', 'o.eventID': None}, {'o.occurrenceID': 'https://www.inaturalist.org/observations/155147483', 'o.recordedBy': 'Ezequiel Vera', 'o.catalogNumber': '155147483', 'o.occurrenceStatus': 'PRESENT', 'o.eventID': None}, {'o.occurrenceID': 'https://www.inaturalist.org/observations/132253316', 'o.recordedBy': 'Ezequiel Vera', 'o.catalogNumber': '132253316', 'o.occurrenceStatus': 'PRESENT', 'o.eventID': None}, {'o.occurrenceID': 'https://www.inaturalist.org/observations/25871487', 'o.recordedBy': 'Ezequiel Vera', 'o.catalogNumber': '25871487', 'o.occurrenceStatus': 'PRESENT', 'o.eventID': None}, {'o.occurrenceID': 'https://www.inaturalist.org/observations/18651650', 'o.recordedBy': 'Ezequiel Vera', 'o.catalogNumber': '18651650', 'o.occurrenceStatus': 'PRESENT', 'o.eventID': None}]\u001b[0m\n",
      "\n",
      "\u001b[1m> Finished chain.\u001b[0m\n",
      "I don't know the answer to this question.\n",
      "====== END ====== \n",
      "\n",
      "====== START ======\n",
      "\n",
      "\n",
      "\u001b[1m> Entering new GraphCypherQAChain chain...\u001b[0m\n",
      "Generated Cypher:\n",
      "\u001b[32;1m\u001b[1;3mcypher\n",
      "MATCH (o:Occurrence)\n",
      "WHERE o.recordedBy = \"user1\"\n",
      "AND o.occurrenceStatus = \"present\"\n",
      "AND o.eventDate >= \"2023-01-01\"\n",
      "AND o.eventDate <= \"2023-12-31\"\n",
      "RETURN count(o)\n",
      "\u001b[0m\n",
      "Full Context:\n",
      "\u001b[32;1m\u001b[1;3m[{'count(o)': 0}]\u001b[0m\n",
      "\n",
      "\u001b[1m> Finished chain.\u001b[0m\n",
      "I don't know the answer.\n",
      "====== END ====== \n",
      "\n",
      "====== START ======\n",
      "\n",
      "\n",
      "\u001b[1m> Entering new GraphCypherQAChain chain...\u001b[0m\n",
      "Generated Cypher:\n",
      "\u001b[32;1m\u001b[1;3mMATCH (o:Occurrence)-[:AT_EVENT]->(e:Event)-[:LOCATED_AT]->(l:Location)-[:IN_DATASET]->(d:Dataset)\n",
      "MATCH (i:Identification)-[:TO_TAXON]->(t:Taxon)-[:HAS_OCCURRENCE]->(o)\n",
      "WHERE t.taxonRank = 'SUBSPECIES'\n",
      "RETURN t.scientificName\u001b[0m\n",
      "Full Context:\n",
      "\u001b[32;1m\u001b[1;3m[]\u001b[0m\n",
      "\n",
      "\u001b[1m> Finished chain.\u001b[0m\n",
      "I do not have that information.\n",
      "====== END ====== \n",
      "\n"
     ]
    }
   ],
   "source": [
    "questions = [\"Which institutions are related to Argentina according to recorded occurrences?\",\n",
    "             \"On what dates Ezequiel Vera recorded occurrences?\",\n",
    "             \"How many species occurrences were recorded between 2023-01-01 and 2023-12-31?\",\n",
    "             \"What are the scientific names of the occurrences that are associated with a SUBSPECIE?\"]\n",
    "for q in questions:\n",
    "    print('====== START ======')\n",
    "    print(chain.invoke(q)['result'])\n",
    "    print('====== END ====== \\n')"
   ]
  },
  {
   "cell_type": "markdown",
   "metadata": {},
   "source": [
    "# 4. Prompting Strategies"
   ]
  },
  {
   "cell_type": "code",
   "execution_count": 54,
   "metadata": {},
   "outputs": [],
   "source": [
    "examples= [\n",
    "    {\n",
    "        \"question\": \"How many occurrences are recorded in the dataset identified with ID 50c9509d-22c7-4a22-a47d-8c48425ef4a7?\",\n",
    "        \"query\": \"MATCH (o:Occurrence)-[:IN_DATASET]->(d:Dataset {{datasetKey: '50c9509d-22c7-4a22-a47d-8c48425ef4a7'}}) RETURN count(o) AS numOccurrences\",\n",
    "    },\n",
    "    {\n",
    "        \"question\": \"Which are the occurrences identifiers recorded by Eduardo Luis Beltrocco?\",\n",
    "        \"query\": \"MATCH (o:Occurrence {{recordedBy: 'Eduardo Luis Beltrocco'}}) RETURN o.occurrenceID\",\n",
    "    },\n",
    "    {\n",
    "        \"question\": \"What are the coordinates of the location of the occurrence https://www.inaturalist.org/observations/167230458?\",\n",
    "        \"query\": \"MATCH (o:Occurrence {{occurrenceID: 'https://www.inaturalist.org/observations/167230458'}})-[:AT_EVENT]->(:Event)-[:LOCATED_AT]->(l:Location) RETURN l.decimalLatitude, l.decimalLongitude\",\n",
    "    },\n",
    "    {\n",
    "        \"question\": \"What datasetsKey are associated with the iNaturalist institution?\",\n",
    "        \"query\": \"MATCH (d:Dataset)<-[:IN_DATASET]-(:Occurrence)-[:IS_PART_OF]->(r:Record)-[:BY_INSTITUTION]->(i:Institution {{institutionCode: 'iNaturalist'}}) RETURN DISTINCT d.datasetKey, d.dataset_url\",\n",
    "    },\n",
    "    {\n",
    "        \"question\":\"What species have been recorded in Chubut Argentina?\",\n",
    "        \"query\": \"MATCH (:Location {{countryCode: 'AR', stateProvince: 'Chubut'}})<-[:LOCATED_AT]-(:Event)<-[:AT_EVENT]-(o:Occurrence)<-[:HAS_OCCURRENCE]-(i:Identification)-[:TO_TAXON]->(t:Taxon) RETURN DISTINCT t.scientificName\",\n",
    "    },\n",
    "    {\n",
    "        \"question\": \"In which countries was the species Bombus dahlbomii Guérin-Méneville, 1835 recorded?\",\n",
    "        \"query\": \"MATCH (t:Taxon {{scientificName: 'Bombus dahlbomii Guérin-Méneville, 1835'}})<-[:TO_TAXON]-(:Identification)-[:HAS_OCCURRENCE]->(:Occurrence)-[:AT_EVENT]->(:Event)-[:LOCATED_AT]->(l:Location) RETURN DISTINCT l.countryCode\",\n",
    "    },\n",
    "    {\n",
    "        \"question\": \"What are the occurrences associated with the dataset 50c9509d-22c7-4a22-a47d-8c48425ef4a7?\",\n",
    "        \"query\": \"MATCH (o:Occurrence)-[:IN_DATASET]->(d:Dataset {{datasetKey: '50c9509d-22c7-4a22-a47d-8c48425ef4a7'}}) RETURN o.occurrenceID\",\n",
    "    },\n",
    "]\n"
   ]
  },
  {
   "cell_type": "code",
   "execution_count": 55,
   "metadata": {},
   "outputs": [],
   "source": [
    "from langchain_core.prompts import FewShotPromptTemplate, PromptTemplate\n",
    "\n",
    "example_prompt = PromptTemplate.from_template(\n",
    "    \"User input: {question}\\nCypher query: {query}\"\n",
    ")\n",
    "prompt = FewShotPromptTemplate(\n",
    "    examples=examples[:7],\n",
    "    example_prompt=example_prompt,\n",
    "    prefix=\"You are a Neo4j expert. Given an input question, create a syntactically correct Cypher query to run.\\n\\nHere is the schema information\\n{schema}.\\n\\nBelow are a number of examples of questions and their corresponding Cypher queries.\",\n",
    "    suffix=\"User input: {question}\\nCypher query: \",\n",
    "    input_variables=[\"question\", \"schema\"],\n",
    "\n",
    ")"
   ]
  },
  {
   "cell_type": "code",
   "execution_count": 56,
   "metadata": {},
   "outputs": [
    {
     "name": "stdout",
     "output_type": "stream",
     "text": [
      "You are a Neo4j expert. Given an input question, create a syntactically correct Cypher query to run.\n",
      "\n",
      "Here is the schema information\n",
      "foo.\n",
      "\n",
      "Below are a number of examples of questions and their corresponding Cypher queries.\n",
      "\n",
      "User input: How many occurrences are recorded in the dataset identified with ID 50c9509d-22c7-4a22-a47d-8c48425ef4a7?\n",
      "Cypher query: MATCH (o:Occurrence)-[:IN_DATASET]->(d:Dataset {datasetKey: '50c9509d-22c7-4a22-a47d-8c48425ef4a7'}) RETURN count(o) AS numOccurrences\n",
      "\n",
      "User input: Which are the occurrences identifiers recorded by Eduardo Luis Beltrocco?\n",
      "Cypher query: MATCH (o:Occurrence {recordedBy: 'Eduardo Luis Beltrocco'}) RETURN o.occurrenceID\n",
      "\n",
      "User input: What are the coordinates of the location of the occurrence https://www.inaturalist.org/observations/167230458?\n",
      "Cypher query: MATCH (o:Occurrence {occurrenceID: 'https://www.inaturalist.org/observations/167230458'})-[:AT_EVENT]->(:Event)-[:LOCATED_AT]->(l:Location) RETURN l.decimalLatitude, l.decimalLongitude\n",
      "\n",
      "User input: What datasetsKey are associated with the iNaturalist institution?\n",
      "Cypher query: MATCH (d:Dataset)<-[:IN_DATASET]-(:Occurrence)-[:IS_PART_OF]->(r:Record)-[:BY_INSTITUTION]->(i:Institution {institutionCode: 'iNaturalist'}) RETURN DISTINCT d.datasetKey, d.dataset_url\n",
      "\n",
      "User input: What species have been recorded in Chubut Argentina?\n",
      "Cypher query: MATCH (:Location {countryCode: 'AR', stateProvince: 'Chubut'})<-[:LOCATED_AT]-(:Event)<-[:AT_EVENT]-(o:Occurrence)<-[:HAS_OCCURRENCE]-(i:Identification)-[:TO_TAXON]->(t:Taxon) RETURN DISTINCT t.scientificName\n",
      "\n",
      "User input: In which countries was the species Bombus dahlbomii Guérin-Méneville, 1835 recorded?\n",
      "Cypher query: MATCH (t:Taxon {scientificName: 'Bombus dahlbomii Guérin-Méneville, 1835'})<-[:TO_TAXON]-(:Identification)-[:HAS_OCCURRENCE]->(:Occurrence)-[:AT_EVENT]->(:Event)-[:LOCATED_AT]->(l:Location) RETURN DISTINCT l.countryCode\n",
      "\n",
      "User input: What are the occurrences associated with the dataset 50c9509d-22c7-4a22-a47d-8c48425ef4a7?\n",
      "Cypher query: MATCH (o:Occurrence)-[:IN_DATASET]->(d:Dataset {datasetKey: '50c9509d-22c7-4a22-a47d-8c48425ef4a7'}) RETURN o.occurrenceID\n",
      "\n",
      "User input: Which are the occurrences identifiers recorded by Eduardo Luis Beltrocco?\n",
      "Cypher query: \n"
     ]
    }
   ],
   "source": [
    "print(prompt.format(question=\"Which are the occurrences identifiers recorded by Eduardo Luis Beltrocco?\", schema=\"foo\"))"
   ]
  },
  {
   "cell_type": "code",
   "execution_count": 57,
   "metadata": {},
   "outputs": [],
   "source": [
    "chain2 = GraphCypherQAChain.from_llm(graph=graph, llm=llm, cypher_prompt=prompt, verbose=True)"
   ]
  },
  {
   "cell_type": "code",
   "execution_count": 58,
   "metadata": {},
   "outputs": [
    {
     "name": "stdout",
     "output_type": "stream",
     "text": [
      "====== START ======\n",
      "\n",
      "\n",
      "\u001b[1m> Entering new GraphCypherQAChain chain...\u001b[0m\n",
      "Generated Cypher:\n",
      "\u001b[32;1m\u001b[1;3mMATCH (:Location {countryCode: 'AR'})<-[:LOCATED_AT]-(:Event)<-[:AT_EVENT]-(o:Occurrence)-[:IS_PART_OF]->(r:Record)-[:BY_INSTITUTION]->(i:Institution) RETURN DISTINCT i.institutionCode\u001b[0m\n",
      "Full Context:\n",
      "\u001b[32;1m\u001b[1;3m[{'i.institutionCode': 'iNaturalist'}, {'i.institutionCode': 'IANIGLA'}]\u001b[0m\n",
      "\n",
      "\u001b[1m> Finished chain.\u001b[0m\n",
      "iNaturalist, IANIGLA are related to Argentina according to recorded occurrences.\n",
      "====== END ====== \n",
      "\n",
      "====== START ======\n",
      "\n",
      "\n",
      "\u001b[1m> Entering new GraphCypherQAChain chain...\u001b[0m\n",
      "Generated Cypher:\n",
      "\u001b[32;1m\u001b[1;3mMATCH (o:Occurrence {recordedBy: 'Ezequiel Vera'})-[:AT_EVENT]->(e:Event) RETURN DISTINCT e.eventDate\u001b[0m\n",
      "Full Context:\n",
      "\u001b[32;1m\u001b[1;3m[{'e.eventDate': neo4j.time.Date(2019, 4, 20)}, {'e.eventDate': neo4j.time.Date(2021, 10, 9)}, {'e.eventDate': neo4j.time.Date(2017, 7, 16)}, {'e.eventDate': neo4j.time.Date(2019, 2, 13)}, {'e.eventDate': neo4j.time.Date(2019, 4, 7)}, {'e.eventDate': neo4j.time.Date(2019, 7, 27)}, {'e.eventDate': neo4j.time.Date(2023, 4, 6)}, {'e.eventDate': neo4j.time.Date(2022, 7, 22)}, {'e.eventDate': neo4j.time.Date(2019, 5, 26)}, {'e.eventDate': neo4j.time.Date(2018, 11, 23)}]\u001b[0m\n",
      "\n",
      "\u001b[1m> Finished chain.\u001b[0m\n",
      "I do not have that information.\n",
      "====== END ====== \n",
      "\n",
      "====== START ======\n",
      "\n",
      "\n",
      "\u001b[1m> Entering new GraphCypherQAChain chain...\u001b[0m\n",
      "Generated Cypher:\n",
      "\u001b[32;1m\u001b[1;3mMATCH (o:Occurrence)-[:AT_EVENT]->(e:Event) WHERE e.year >= 2023 AND e.year <= 2023 RETURN count(o) AS numOccurrences\u001b[0m\n",
      "Full Context:\n",
      "\u001b[32;1m\u001b[1;3m[{'numOccurrences': 2120}]\u001b[0m\n",
      "\n",
      "\u001b[1m> Finished chain.\u001b[0m\n",
      "I don't know the answer to that question.\n",
      "====== END ====== \n",
      "\n",
      "====== START ======\n",
      "\n",
      "\n",
      "\u001b[1m> Entering new GraphCypherQAChain chain...\u001b[0m\n",
      "Generated Cypher:\n",
      "\u001b[32;1m\u001b[1;3mMATCH (o:Occurrence)-[:HAS_OCCURRENCE]->(i:Identification)-[:TO_TAXON]->(t:Taxon {taxonRank: 'SUBSPECIES'}) RETURN t.scientificName\u001b[0m\n",
      "Full Context:\n",
      "\u001b[32;1m\u001b[1;3m[]\u001b[0m\n",
      "\n",
      "\u001b[1m> Finished chain.\u001b[0m\n",
      "I do not have that information.\n",
      "====== END ====== \n",
      "\n"
     ]
    }
   ],
   "source": [
    "questions = [\"Which institutions are related to Argentina according to recorded occurrences?\",\n",
    "             \"On what dates Ezequiel Vera recorded occurrences?\",\n",
    "             \"How many species occurrences were recorded between 2023-01-01 and 2023-12-31?\",\n",
    "             \"What are the scientific names of the occurrences that are associated with a SUBSPECIE?\"]\n",
    "for q in questions:\n",
    "    print('====== START ======')\n",
    "    print(chain2.invoke(q)['result'])\n",
    "    print('====== END ====== \\n')"
   ]
  },
  {
   "cell_type": "code",
   "execution_count": 28,
   "metadata": {},
   "outputs": [
    {
     "ename": "KeyError",
     "evalue": "'datasetKey'",
     "output_type": "error",
     "traceback": [
      "\u001b[1;31m---------------------------------------------------------------------------\u001b[0m",
      "\u001b[1;31mKeyError\u001b[0m                                  Traceback (most recent call last)",
      "Cell \u001b[1;32mIn[28], line 1\u001b[0m\n\u001b[1;32m----> 1\u001b[0m \u001b[38;5;28mprint\u001b[39m(\u001b[43mprompt\u001b[49m\u001b[38;5;241;43m.\u001b[39;49m\u001b[43mformat\u001b[49m\u001b[43m(\u001b[49m\u001b[43mquestion\u001b[49m\u001b[38;5;241;43m=\u001b[39;49m\u001b[38;5;124;43m\"\u001b[39;49m\u001b[38;5;124;43mWhere do Michael work?\u001b[39;49m\u001b[38;5;124;43m\"\u001b[39;49m\u001b[43m,\u001b[49m\u001b[43m \u001b[49m\u001b[43mschema\u001b[49m\u001b[38;5;241;43m=\u001b[39;49m\u001b[38;5;124;43m\"\u001b[39;49m\u001b[38;5;124;43mfoo\u001b[39;49m\u001b[38;5;124;43m\"\u001b[39;49m\u001b[43m)\u001b[49m)\n",
      "File \u001b[1;32mc:\\Users\\Conicet\\AppData\\Local\\Programs\\Python\\Python311\\Lib\\site-packages\\langchain_core\\prompts\\few_shot.py:165\u001b[0m, in \u001b[0;36mFewShotPromptTemplate.format\u001b[1;34m(self, **kwargs)\u001b[0m\n\u001b[0;32m    162\u001b[0m template \u001b[38;5;241m=\u001b[39m \u001b[38;5;28mself\u001b[39m\u001b[38;5;241m.\u001b[39mexample_separator\u001b[38;5;241m.\u001b[39mjoin([piece \u001b[38;5;28;01mfor\u001b[39;00m piece \u001b[38;5;129;01min\u001b[39;00m pieces \u001b[38;5;28;01mif\u001b[39;00m piece])\n\u001b[0;32m    164\u001b[0m \u001b[38;5;66;03m# Format the template with the input variables.\u001b[39;00m\n\u001b[1;32m--> 165\u001b[0m \u001b[38;5;28;01mreturn\u001b[39;00m \u001b[43mDEFAULT_FORMATTER_MAPPING\u001b[49m\u001b[43m[\u001b[49m\u001b[38;5;28;43mself\u001b[39;49m\u001b[38;5;241;43m.\u001b[39;49m\u001b[43mtemplate_format\u001b[49m\u001b[43m]\u001b[49m\u001b[43m(\u001b[49m\u001b[43mtemplate\u001b[49m\u001b[43m,\u001b[49m\u001b[43m \u001b[49m\u001b[38;5;241;43m*\u001b[39;49m\u001b[38;5;241;43m*\u001b[39;49m\u001b[43mkwargs\u001b[49m\u001b[43m)\u001b[49m\n",
      "File \u001b[1;32mc:\\Users\\Conicet\\AppData\\Local\\Programs\\Python\\Python311\\Lib\\string.py:190\u001b[0m, in \u001b[0;36mFormatter.format\u001b[1;34m(self, format_string, *args, **kwargs)\u001b[0m\n\u001b[0;32m    189\u001b[0m \u001b[38;5;28;01mdef\u001b[39;00m \u001b[38;5;21mformat\u001b[39m(\u001b[38;5;28mself\u001b[39m, format_string, \u001b[38;5;241m/\u001b[39m, \u001b[38;5;241m*\u001b[39margs, \u001b[38;5;241m*\u001b[39m\u001b[38;5;241m*\u001b[39mkwargs):\n\u001b[1;32m--> 190\u001b[0m     \u001b[38;5;28;01mreturn\u001b[39;00m \u001b[38;5;28;43mself\u001b[39;49m\u001b[38;5;241;43m.\u001b[39;49m\u001b[43mvformat\u001b[49m\u001b[43m(\u001b[49m\u001b[43mformat_string\u001b[49m\u001b[43m,\u001b[49m\u001b[43m \u001b[49m\u001b[43margs\u001b[49m\u001b[43m,\u001b[49m\u001b[43m \u001b[49m\u001b[43mkwargs\u001b[49m\u001b[43m)\u001b[49m\n",
      "File \u001b[1;32mc:\\Users\\Conicet\\AppData\\Local\\Programs\\Python\\Python311\\Lib\\site-packages\\langchain_core\\utils\\formatting.py:18\u001b[0m, in \u001b[0;36mStrictFormatter.vformat\u001b[1;34m(self, format_string, args, kwargs)\u001b[0m\n\u001b[0;32m     13\u001b[0m \u001b[38;5;28;01mif\u001b[39;00m \u001b[38;5;28mlen\u001b[39m(args) \u001b[38;5;241m>\u001b[39m \u001b[38;5;241m0\u001b[39m:\n\u001b[0;32m     14\u001b[0m     \u001b[38;5;28;01mraise\u001b[39;00m \u001b[38;5;167;01mValueError\u001b[39;00m(\n\u001b[0;32m     15\u001b[0m         \u001b[38;5;124m\"\u001b[39m\u001b[38;5;124mNo arguments should be provided, \u001b[39m\u001b[38;5;124m\"\u001b[39m\n\u001b[0;32m     16\u001b[0m         \u001b[38;5;124m\"\u001b[39m\u001b[38;5;124meverything should be passed as keyword arguments.\u001b[39m\u001b[38;5;124m\"\u001b[39m\n\u001b[0;32m     17\u001b[0m     )\n\u001b[1;32m---> 18\u001b[0m \u001b[38;5;28;01mreturn\u001b[39;00m \u001b[38;5;28;43msuper\u001b[39;49m\u001b[43m(\u001b[49m\u001b[43m)\u001b[49m\u001b[38;5;241;43m.\u001b[39;49m\u001b[43mvformat\u001b[49m\u001b[43m(\u001b[49m\u001b[43mformat_string\u001b[49m\u001b[43m,\u001b[49m\u001b[43m \u001b[49m\u001b[43margs\u001b[49m\u001b[43m,\u001b[49m\u001b[43m \u001b[49m\u001b[43mkwargs\u001b[49m\u001b[43m)\u001b[49m\n",
      "File \u001b[1;32mc:\\Users\\Conicet\\AppData\\Local\\Programs\\Python\\Python311\\Lib\\string.py:194\u001b[0m, in \u001b[0;36mFormatter.vformat\u001b[1;34m(self, format_string, args, kwargs)\u001b[0m\n\u001b[0;32m    192\u001b[0m \u001b[38;5;28;01mdef\u001b[39;00m \u001b[38;5;21mvformat\u001b[39m(\u001b[38;5;28mself\u001b[39m, format_string, args, kwargs):\n\u001b[0;32m    193\u001b[0m     used_args \u001b[38;5;241m=\u001b[39m \u001b[38;5;28mset\u001b[39m()\n\u001b[1;32m--> 194\u001b[0m     result, _ \u001b[38;5;241m=\u001b[39m \u001b[38;5;28;43mself\u001b[39;49m\u001b[38;5;241;43m.\u001b[39;49m\u001b[43m_vformat\u001b[49m\u001b[43m(\u001b[49m\u001b[43mformat_string\u001b[49m\u001b[43m,\u001b[49m\u001b[43m \u001b[49m\u001b[43margs\u001b[49m\u001b[43m,\u001b[49m\u001b[43m \u001b[49m\u001b[43mkwargs\u001b[49m\u001b[43m,\u001b[49m\u001b[43m \u001b[49m\u001b[43mused_args\u001b[49m\u001b[43m,\u001b[49m\u001b[43m \u001b[49m\u001b[38;5;241;43m2\u001b[39;49m\u001b[43m)\u001b[49m\n\u001b[0;32m    195\u001b[0m     \u001b[38;5;28mself\u001b[39m\u001b[38;5;241m.\u001b[39mcheck_unused_args(used_args, args, kwargs)\n\u001b[0;32m    196\u001b[0m     \u001b[38;5;28;01mreturn\u001b[39;00m result\n",
      "File \u001b[1;32mc:\\Users\\Conicet\\AppData\\Local\\Programs\\Python\\Python311\\Lib\\string.py:234\u001b[0m, in \u001b[0;36mFormatter._vformat\u001b[1;34m(self, format_string, args, kwargs, used_args, recursion_depth, auto_arg_index)\u001b[0m\n\u001b[0;32m    230\u001b[0m     auto_arg_index \u001b[38;5;241m=\u001b[39m \u001b[38;5;28;01mFalse\u001b[39;00m\n\u001b[0;32m    232\u001b[0m \u001b[38;5;66;03m# given the field_name, find the object it references\u001b[39;00m\n\u001b[0;32m    233\u001b[0m \u001b[38;5;66;03m#  and the argument it came from\u001b[39;00m\n\u001b[1;32m--> 234\u001b[0m obj, arg_used \u001b[38;5;241m=\u001b[39m \u001b[38;5;28;43mself\u001b[39;49m\u001b[38;5;241;43m.\u001b[39;49m\u001b[43mget_field\u001b[49m\u001b[43m(\u001b[49m\u001b[43mfield_name\u001b[49m\u001b[43m,\u001b[49m\u001b[43m \u001b[49m\u001b[43margs\u001b[49m\u001b[43m,\u001b[49m\u001b[43m \u001b[49m\u001b[43mkwargs\u001b[49m\u001b[43m)\u001b[49m\n\u001b[0;32m    235\u001b[0m used_args\u001b[38;5;241m.\u001b[39madd(arg_used)\n\u001b[0;32m    237\u001b[0m \u001b[38;5;66;03m# do any conversion on the resulting object\u001b[39;00m\n",
      "File \u001b[1;32mc:\\Users\\Conicet\\AppData\\Local\\Programs\\Python\\Python311\\Lib\\string.py:299\u001b[0m, in \u001b[0;36mFormatter.get_field\u001b[1;34m(self, field_name, args, kwargs)\u001b[0m\n\u001b[0;32m    296\u001b[0m \u001b[38;5;28;01mdef\u001b[39;00m \u001b[38;5;21mget_field\u001b[39m(\u001b[38;5;28mself\u001b[39m, field_name, args, kwargs):\n\u001b[0;32m    297\u001b[0m     first, rest \u001b[38;5;241m=\u001b[39m _string\u001b[38;5;241m.\u001b[39mformatter_field_name_split(field_name)\n\u001b[1;32m--> 299\u001b[0m     obj \u001b[38;5;241m=\u001b[39m \u001b[38;5;28;43mself\u001b[39;49m\u001b[38;5;241;43m.\u001b[39;49m\u001b[43mget_value\u001b[49m\u001b[43m(\u001b[49m\u001b[43mfirst\u001b[49m\u001b[43m,\u001b[49m\u001b[43m \u001b[49m\u001b[43margs\u001b[49m\u001b[43m,\u001b[49m\u001b[43m \u001b[49m\u001b[43mkwargs\u001b[49m\u001b[43m)\u001b[49m\n\u001b[0;32m    301\u001b[0m     \u001b[38;5;66;03m# loop through the rest of the field_name, doing\u001b[39;00m\n\u001b[0;32m    302\u001b[0m     \u001b[38;5;66;03m#  getattr or getitem as needed\u001b[39;00m\n\u001b[0;32m    303\u001b[0m     \u001b[38;5;28;01mfor\u001b[39;00m is_attr, i \u001b[38;5;129;01min\u001b[39;00m rest:\n",
      "File \u001b[1;32mc:\\Users\\Conicet\\AppData\\Local\\Programs\\Python\\Python311\\Lib\\string.py:256\u001b[0m, in \u001b[0;36mFormatter.get_value\u001b[1;34m(self, key, args, kwargs)\u001b[0m\n\u001b[0;32m    254\u001b[0m     \u001b[38;5;28;01mreturn\u001b[39;00m args[key]\n\u001b[0;32m    255\u001b[0m \u001b[38;5;28;01melse\u001b[39;00m:\n\u001b[1;32m--> 256\u001b[0m     \u001b[38;5;28;01mreturn\u001b[39;00m \u001b[43mkwargs\u001b[49m\u001b[43m[\u001b[49m\u001b[43mkey\u001b[49m\u001b[43m]\u001b[49m\n",
      "\u001b[1;31mKeyError\u001b[0m: 'datasetKey'"
     ]
    }
   ],
   "source": [
    "print(prompt.format(question=\"Where do Michael work?\", schema=\"foo\"))"
   ]
  },
  {
   "cell_type": "code",
   "execution_count": null,
   "metadata": {},
   "outputs": [],
   "source": [
    "from langchain_core.prompts import FewShotPromptTemplate, PromptTemplate\n",
    "\n",
    "example_prompt = PromptTemplate.from_template(\n",
    "    \"User input: {question}\\nCypher query: {query}\"\n",
    ")\n",
    "prompt = FewShotPromptTemplate(\n",
    "    examples=examples[:3],\n",
    "    example_prompt=example_prompt,\n",
    "    prefix=\"You are a Neo4j expert. Given an input question, create a syntactically correct Cypher query to run.\\n\\nHere is the schema information\\n{schema}.\\n\\nBelow are a number of examples of questions and their corresponding Cypher queries.\",\n",
    "    suffix=\"User input: {question}\\nCypher query: \",\n",
    "    input_variables=[\"question\", \"schema\"],\n",
    ")"
   ]
  },
  {
   "cell_type": "code",
   "execution_count": null,
   "metadata": {},
   "outputs": [],
   "source": [
    "examples= [\n",
    "    {\n",
    "        \"question\": \"Which workers speak French?\",\n",
    "        \"query\": \"MATCH (p:Person)-[:SPEAKS]->(l:Language {{name: 'French'}}) RETURN p.name\",\n",
    "    },\n",
    "    {\n",
    "        \"question\": \"What industries are workers named Emily associated with?\",\n",
    "        \"query\": \"MATCH (p:Person {{name: 'Emily'}})-[:WORKS_IN]->(c:Company)-[:IS_IN]->(i:Industry) RETURN i.name\",\n",
    "    },\n",
    "    {\n",
    "        \"question\": \"Which workers live in Canada and speak German?\",\n",
    "        \"query\": \"MATCH (p:Person)-[:LIVES_IN]->(:Country {{name: 'Canada'}}), (p)-[:SPEAKS]->(:Language {{name: 'German'}}) RETURN p.name\",\n",
    "    },\n",
    "    {\n",
    "        \"question\": \"In which countries do workers who speak Spanish live?\",\n",
    "        \"query\": \"MATCH (p:Person)-[:SPEAKS]->(:Language {{name: 'Spanish'}})<-[:SPEAKS]-(worker:Person)-[:LIVES_IN]->(c:Country) RETURN DISTINCT c.name AS Country\",\n",
    "    },\n",
    "    {\n",
    "        \"question\": \"What companies do workers named John work in?\",\n",
    "        \"query\": \"MATCH (p:Person {{name: 'John'}})-[:WORKS_IN]->(c:Company) RETURN c.name\",\n",
    "    },\n",
    "    {\n",
    "        \"question\":\"How many workers in Hospital and Health Care industry able to speak Korea\",\n",
    "        \"query\": \"MATCH (p:Person)-[:WORKS_IN]->(:Company)-[:IS_IN]->(:Industry {{name: 'Hospitals and Health Care'}}),(p)-[:SPEAKS]->(:Language {{name: 'Korean'}}) RETURN COUNT(DISTINCT p) AS NumberOfWorkers\",\n",
    "    },\n",
    "    {\n",
    "        \"question\": \"What companies are located in the technology industry?\",\n",
    "        \"query\": \"MATCH (c:Company)-[:IS_IN]->(:Industry {{name: 'Technology'}}) RETURN c.name\",\n",
    "    },\n",
    "    {\n",
    "        \"question\": \"Where do workers named Alice live?\",\n",
    "        \"query\": \"MATCH (p:Person {{name: 'Alice'}})-[:LIVES_IN]->(c:Country) RETURN c.name\",\n",
    "    },\n",
    "]\n"
   ]
  },
  {
   "cell_type": "code",
   "execution_count": 15,
   "metadata": {},
   "outputs": [],
   "source": [
    "from langchain_community.vectorstores import Neo4jVector\n",
    "from langchain_core.example_selectors import SemanticSimilarityExampleSelector\n",
    "from langchain_community.embeddings import HuggingFaceEmbeddings\n",
    "\n",
    "example_selector = SemanticSimilarityExampleSelector.from_examples(\n",
    "    examples,\n",
    "    HuggingFaceEmbeddings(),\n",
    "    Neo4jVector,\n",
    "    url = neo4j_url,\n",
    "    username = neo4j_user,\n",
    "    password = neo4j_password,\n",
    "    k=3,\n",
    "    input_keys=[\"question\"],\n",
    ")"
   ]
  },
  {
   "cell_type": "code",
   "execution_count": null,
   "metadata": {},
   "outputs": [],
   "source": [
    "example_selector.select_examples({\"question\": \"Where do Michael work?\"})"
   ]
  },
  {
   "cell_type": "code",
   "execution_count": 21,
   "metadata": {},
   "outputs": [],
   "source": [
    "dynamic_prompt = FewShotPromptTemplate(\n",
    "    example_selector=example_selector, #previous: examples = examples[:3]\n",
    "    example_prompt=example_prompt,\n",
    "    prefix=\"You are a Neo4j expert. Given an input question, create a syntactically correct Cypher query to run.\\n\\nHere is the schema information\\n{schema}.\\n\\nBelow are a number of examples of questions and their corresponding Cypher queries.\",\n",
    "    suffix=\"User input: {question}\\nCypher query: \",\n",
    "    input_variables=[\"question\", \"schema\"],\n",
    ")"
   ]
  },
  {
   "cell_type": "code",
   "execution_count": 27,
   "metadata": {},
   "outputs": [
    {
     "name": "stdout",
     "output_type": "stream",
     "text": [
      "You are a Neo4j expert. Given an input question, create a syntactically correct Cypher query to run.\n",
      "\n",
      "Here is the schema information\n",
      "foo.\n",
      "\n",
      "Below are a number of examples of questions and their corresponding Cypher queries.\n",
      "\n",
      "User input: What companies do workers named John work in?\n",
      "Cypher query: MATCH (p:Person {name: 'John'})-[:WORKS_IN]->(c:Company) RETURN c.name\n",
      "\n",
      "User input: Where do workers named Alice live?\n",
      "Cypher query: MATCH (p:Person {name: 'Alice'})-[:LIVES_IN]->(c:Country) RETURN c.name\n",
      "\n",
      "User input: What industries are workers named Emily associated with?\n",
      "Cypher query: MATCH (p:Person {name: 'Emily'})-[:WORKS_IN]->(c:Company)-[:IS_IN]->(i:Industry) RETURN i.name\n",
      "\n",
      "User input: Where do Michael work?\n",
      "Cypher query: \n"
     ]
    }
   ],
   "source": [
    "print(dynamic_prompt.format(question=\"Where do Michael work?\", schema=\"foo\"))"
   ]
  }
 ],
 "metadata": {
  "kernelspec": {
   "display_name": "venv",
   "language": "python",
   "name": "python3"
  },
  "language_info": {
   "codemirror_mode": {
    "name": "ipython",
    "version": 3
   },
   "file_extension": ".py",
   "mimetype": "text/x-python",
   "name": "python",
   "nbconvert_exporter": "python",
   "pygments_lexer": "ipython3",
   "version": "3.11.5"
  }
 },
 "nbformat": 4,
 "nbformat_minor": 2
}
